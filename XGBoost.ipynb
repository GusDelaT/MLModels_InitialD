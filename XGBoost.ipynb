{
 "cells": [
  {
   "cell_type": "markdown",
   "metadata": {},
   "source": [
    "## Boosted Ones \n",
    "En este notebook podremos ejecutar el trabajo necesario para desarrollar un modelo de predicción basado en xBoost. Con este modelo buscamos tener una capacidad de predicción alta, al mismo tiempo que obtener una interpretabilidad de los resultados bastante alta también. La variable label que vamos a utilizar en este modelo es el de unidades vendidas.\n",
    "\n",
    "IMPORTANTE: Este modelo no es nuestro modelo final y no pretende ser el final de la consultoría. Este desarrollo nos permite tener una mejor intención sobre los datos y obtener resultados mucho más precisos en el modelo final futuro."
   ]
  },
  {
   "cell_type": "code",
   "execution_count": 4,
   "metadata": {},
   "outputs": [],
   "source": [
    "import pandas as pd\n",
    "import numpy as np\n",
    "import matplotlib.pyplot as plt \n",
    "import seaborn as sns\n",
    "import sklearn\n",
    "from sklearn.datasets import load_iris\n",
    "from sklearn.model_selection import train_test_split\n",
    "from sklearn.tree import DecisionTreeClassifier\n",
    "from sklearn.metrics import accuracy_score\n",
    "from sklearn.datasets import load_iris\n",
    "from sklearn.model_selection import train_test_split\n",
    "from sklearn.tree import DecisionTreeRegressor\n",
    "from sklearn.impute import KNNImputer\n",
    "from sklearn.preprocessing import OneHotEncoder\n",
    "from sklearn.metrics import mean_squared_error, r2_score\n",
    "from sklearn.tree import plot_tree\n",
    "import xgboost as xgb"
   ]
  },
  {
   "cell_type": "code",
   "execution_count": 5,
   "metadata": {},
   "outputs": [
    {
     "name": "stderr",
     "output_type": "stream",
     "text": [
      "/tmp/ipykernel_11386/1981926470.py:4: UserWarning: Could not infer format, so each element will be parsed individually, falling back to `dateutil`. To ensure parsing is consistent and as-expected, please specify a format.\n",
      "  new_data['fecha'] = pd.to_datetime(new_data['fecha'], errors='coerce')\n"
     ]
    },
    {
     "name": "stdout",
     "output_type": "stream",
     "text": [
      "Number of rows in DataFrame: 1090\n",
      "Number of non-missing 'fecha' entries: 1090\n",
      "<class 'pandas.core.frame.DataFrame'>\n",
      "Index: 1090 entries, 0 to 1089\n",
      "Data columns (total 8 columns):\n",
      " #   Column                 Non-Null Count  Dtype         \n",
      "---  ------                 --------------  -----         \n",
      " 0   fecha                  1090 non-null   datetime64[ns]\n",
      " 1   dia                    1090 non-null   category      \n",
      " 2   vendidos_totales       1090 non-null   int64         \n",
      " 3   devueltos_totales      1090 non-null   int64         \n",
      " 4   suscripciones_totales  1090 non-null   int64         \n",
      " 5   tiendas_conveniencia   1090 non-null   int64         \n",
      " 6   tiendas_barrio         1090 non-null   int64         \n",
      " 7   sectoristas            1090 non-null   int64         \n",
      "dtypes: category(1), datetime64[ns](1), int64(6)\n",
      "memory usage: 69.5 KB\n",
      "None\n"
     ]
    }
   ],
   "source": [
    "df = pd.read_csv('BdD_Estructurada_1.csv')\n",
    "data = pd.DataFrame(df)\n",
    "new_data = data.drop(columns=['enviados_totales','cobrados_totales','titulo', 'Unnamed: 11', 'Unnamed: 12', 'Unnamed: 13', 'Unnamed: 14', 'Unnamed: 15', 'Unnamed: 16', 'Unnamed: 17', 'Unnamed: 18', 'Unnamed: 19', 'Unnamed: 20', 'Unnamed: 21', 'Unnamed: 22'])\n",
    "new_data['fecha'] = pd.to_datetime(new_data['fecha'], errors='coerce')\n",
    "\n",
    "new_data['dia'] = new_data['dia'].astype('category')\n",
    "numeric_cols = new_data.select_dtypes(include=['float64'])\n",
    "imputer = KNNImputer(n_neighbors=5)\n",
    "imputed_data = imputer.fit_transform(numeric_cols).astype('int64')\n",
    "new_data[numeric_cols.columns] = imputed_data\n",
    "new_data = new_data.dropna(subset=['fecha'])\n",
    "print(f\"Number of rows in DataFrame: {len(new_data)}\")\n",
    "print(f\"Number of non-missing 'fecha' entries: {new_data['fecha'].notna().sum()}\")\n",
    "print(new_data.info())\n",
    "new_data['year'] = new_data['fecha'].dt.year\n",
    "new_data['month'] = new_data['fecha'].dt.month\n",
    "new_data['day'] = new_data['fecha'].dt.day\n",
    "new_data['day_of_week'] = new_data['fecha'].dt.dayofweek\n",
    "\n",
    "new_data = new_data.drop(columns=['fecha'])"
   ]
  },
  {
   "cell_type": "code",
   "execution_count": null,
   "metadata": {},
   "outputs": [
    {
     "name": "stdout",
     "output_type": "stream",
     "text": [
      "Mean Squared Error: 50688988.0\n",
      "R2 Score: 0.7528765201568604\n",
      "Adjusted R2 Score: 0.745056156870685\n"
     ]
    }
   ],
   "source": [
    "x_train, x_test, y_train, y_test = train_test_split(\n",
    "    new_data.drop(columns=['vendidos_totales']),\n",
    "    new_data['vendidos_totales'],\n",
    "    test_size=0.3,\n",
    "    random_state=42\n",
    ")\n",
    "\n",
    "dtrain = xgb.DMatrix(x_train, label=y_train, enable_categorical=True)\n",
    "dtest = xgb.DMatrix(x_test, label=y_test, enable_categorical=True)\n",
    "\n",
    "params = {\n",
    "    'objective': 'reg:squarederror',  # Use squared error for regression\n",
    "    'max_depth': 8,                   # Maximum tree depth (adjust as needed)\n",
    "    'eta': 0.1,                       # Learning rate (0.1 is common to start with)\n",
    "    'min_child_weight': 10,           # Minimum sum of instance weights in a child\n",
    "    'subsample': 0.8,                 # Subsample ratio of training data\n",
    "    'colsample_bytree': 0.8,          # Subsample ratio of features\n",
    "    'seed': 42                        # For reproducibility\n",
    "}\n",
    "\n",
    "\n",
    "num_rounds = 100  \n",
    "model = xgb.train(params, dtrain, num_boost_round=num_rounds)\n",
    "\n",
    "\n",
    "y_pred = model.predict(dtest)\n",
    "\n",
    "\n",
    "mse = mean_squared_error(y_test, y_pred)\n",
    "r2 = r2_score(y_test, y_pred)\n",
    "n = len(y_test)\n",
    "k = x_test.shape[1]\n",
    "adjusted_r2 = 1 - (1 - r2) * (n - 1) / (n - k - 1)\n",
    "\n",
    "print(\"Mean Squared Error:\", mse)\n",
    "print(\"R2 Score:\", r2)\n",
    "print(\"Adjusted R2 Score:\", adjusted_r2)"
   ]
  }
 ],
 "metadata": {
  "kernelspec": {
   "display_name": "Python 3",
   "language": "python",
   "name": "python3"
  },
  "language_info": {
   "codemirror_mode": {
    "name": "ipython",
    "version": 3
   },
   "file_extension": ".py",
   "mimetype": "text/x-python",
   "name": "python",
   "nbconvert_exporter": "python",
   "pygments_lexer": "ipython3",
   "version": "3.12.1"
  }
 },
 "nbformat": 4,
 "nbformat_minor": 2
}
