{
  "nbformat": 4,
  "nbformat_minor": 0,
  "metadata": {
    "colab": {
      "provenance": [],
      "mount_file_id": "1QUsNOTtafFiG70psRNqftte4e3xycza8",
      "authorship_tag": "ABX9TyM+vIKKCsIXTgI5rojx8u3V",
      "include_colab_link": true
    },
    "kernelspec": {
      "name": "python3",
      "display_name": "Python 3"
    },
    "language_info": {
      "name": "python"
    }
  },
  "cells": [
    {
      "cell_type": "markdown",
      "metadata": {
        "id": "view-in-github",
        "colab_type": "text"
      },
      "source": [
        "<a href=\"https://colab.research.google.com/github/GusDelaT/MLModels_InitialD/blob/main/PDFaPORTADAS.ipynb\" target=\"_parent\"><img src=\"https://colab.research.google.com/assets/colab-badge.svg\" alt=\"Open In Colab\"/></a>"
      ]
    },
    {
      "cell_type": "code",
      "execution_count": 3,
      "metadata": {
        "colab": {
          "base_uri": "https://localhost:8080/"
        },
        "collapsed": true,
        "id": "iTm8XaEUq_e3",
        "outputId": "9772aeee-0661-4c64-a029-5e15324190c3"
      },
      "outputs": [
        {
          "output_type": "stream",
          "name": "stdout",
          "text": [
            "Reading package lists... Done\n",
            "Building dependency tree... Done\n",
            "Reading state information... Done\n",
            "poppler-utils is already the newest version (22.02.0-2ubuntu0.6).\n",
            "0 upgraded, 0 newly installed, 0 to remove and 49 not upgraded.\n",
            "Collecting pdf2image\n",
            "  Downloading pdf2image-1.17.0-py3-none-any.whl.metadata (6.2 kB)\n",
            "Requirement already satisfied: pillow in /usr/local/lib/python3.11/dist-packages (from pdf2image) (11.1.0)\n",
            "Downloading pdf2image-1.17.0-py3-none-any.whl (11 kB)\n",
            "Installing collected packages: pdf2image\n",
            "Successfully installed pdf2image-1.17.0\n"
          ]
        }
      ],
      "source": [
        "\n",
        "# Instalar Poppler\n",
        "!apt-get install -y poppler-utils\n",
        "!pip install pdf2image\n"
      ]
    },
    {
      "cell_type": "code",
      "source": [
        "import os\n",
        "from pdf2image import convert_from_path\n",
        "from PIL import Image"
      ],
      "metadata": {
        "id": "vVYLcJTZrNg4"
      },
      "execution_count": 4,
      "outputs": []
    },
    {
      "cell_type": "code",
      "source": [
        "# Ruta a la carpeta de PDFs en Google Drive\n",
        "carpeta_pdfs = '/content/drive/MyDrive/PAIT/PDFS_130125_190125'  # Cambia esta ruta si tu carpeta está en otra ubicación en Drive\n",
        "\n",
        "# Obtener rutas automáticamente\n",
        "pdf_files = [\n",
        "    os.path.join(carpeta_pdfs, archivo) for archivo in os.listdir(carpeta_pdfs)\n",
        "    if archivo.endswith('.pdf') and len(archivo.split('_')[0]) == 6 and archivo.split('_')[0].isdigit()\n",
        "]\n",
        "\n",
        "print(\"Archivos encontrados:\", pdf_files)"
      ],
      "metadata": {
        "colab": {
          "base_uri": "https://localhost:8080/"
        },
        "id": "-MIu_tSdI5HK",
        "outputId": "4d0b11c1-5cb0-4ec9-97e8-56fdb1d34718"
      },
      "execution_count": 5,
      "outputs": [
        {
          "output_type": "stream",
          "name": "stdout",
          "text": [
            "Archivos encontrados: ['/content/drive/MyDrive/PAIT/PDFS_130125_190125/130125_NAC.pdf', '/content/drive/MyDrive/PAIT/PDFS_130125_190125/140125_NAC.pdf', '/content/drive/MyDrive/PAIT/PDFS_130125_190125/150125_NAC.pdf', '/content/drive/MyDrive/PAIT/PDFS_130125_190125/160125_NAC.pdf', '/content/drive/MyDrive/PAIT/PDFS_130125_190125/170125_NAC.pdf', '/content/drive/MyDrive/PAIT/PDFS_130125_190125/180125_NAC.pdf', '/content/drive/MyDrive/PAIT/PDFS_130125_190125/190125_NAC.pdf', '/content/drive/MyDrive/PAIT/PDFS_130125_190125/130125_CEN.pdf', '/content/drive/MyDrive/PAIT/PDFS_130125_190125/140125_CEN.pdf', '/content/drive/MyDrive/PAIT/PDFS_130125_190125/150125_CEN.pdf', '/content/drive/MyDrive/PAIT/PDFS_130125_190125/160125_CEN.pdf', '/content/drive/MyDrive/PAIT/PDFS_130125_190125/170125_CEN.pdf', '/content/drive/MyDrive/PAIT/PDFS_130125_190125/130125_NOR.pdf', '/content/drive/MyDrive/PAIT/PDFS_130125_190125/140125_NOR.pdf', '/content/drive/MyDrive/PAIT/PDFS_130125_190125/150125_NOR.pdf', '/content/drive/MyDrive/PAIT/PDFS_130125_190125/160125_NOR.pdf', '/content/drive/MyDrive/PAIT/PDFS_130125_190125/170125_NOR.pdf', '/content/drive/MyDrive/PAIT/PDFS_130125_190125/130125_OCC.pdf', '/content/drive/MyDrive/PAIT/PDFS_130125_190125/140125_OCC.pdf', '/content/drive/MyDrive/PAIT/PDFS_130125_190125/150125_OCC.pdf', '/content/drive/MyDrive/PAIT/PDFS_130125_190125/160125_OCC.pdf', '/content/drive/MyDrive/PAIT/PDFS_130125_190125/170125_OCC.pdf', '/content/drive/MyDrive/PAIT/PDFS_130125_190125/140125_ORI.pdf', '/content/drive/MyDrive/PAIT/PDFS_130125_190125/150125_ORI.pdf', '/content/drive/MyDrive/PAIT/PDFS_130125_190125/170125_ORI.pdf', '/content/drive/MyDrive/PAIT/PDFS_130125_190125/130125_GUA.pdf', '/content/drive/MyDrive/PAIT/PDFS_130125_190125/140125_GUA.pdf', '/content/drive/MyDrive/PAIT/PDFS_130125_190125/150125_GUA.pdf', '/content/drive/MyDrive/PAIT/PDFS_130125_190125/160125_GUA.pdf', '/content/drive/MyDrive/PAIT/PDFS_130125_190125/170125_GUA.pdf', '/content/drive/MyDrive/PAIT/PDFS_130125_190125/130125_SUR.pdf', '/content/drive/MyDrive/PAIT/PDFS_130125_190125/140125_SUR.pdf', '/content/drive/MyDrive/PAIT/PDFS_130125_190125/150125_SUR.pdf', '/content/drive/MyDrive/PAIT/PDFS_130125_190125/170125_SUR.pdf']\n"
          ]
        }
      ]
    },
    {
      "cell_type": "code",
      "source": [
        "# Función para convertir PDFs a imágenes con ajuste de resolución\n",
        "def pdf_to_images(pdf_files, output_folder='output_images', dpi=100):\n",
        "    os.makedirs(output_folder, exist_ok=True)\n",
        "\n",
        "    for pdf_file in pdf_files:\n",
        "        try:\n",
        "            print(f\"Procesando: {pdf_file}\")\n",
        "            # Ajustar la resolución con el parámetro dpi\n",
        "            pages = convert_from_path(pdf_file, dpi=dpi, first_page=1, last_page=1)\n",
        "\n",
        "            for i, page in enumerate(pages):\n",
        "                output_path = os.path.join(output_folder, f\"{os.path.basename(pdf_file).split('.')[0]}_page_{i + 1}.png\")\n",
        "                page.save(output_path, \"PNG\")\n",
        "                print(f\"Imagen guardada: {output_path}\")\n",
        "\n",
        "        except Exception as e:\n",
        "            print(f\"Error procesando {pdf_file}: {e}\")"
      ],
      "metadata": {
        "id": "u6fN7FmurREm"
      },
      "execution_count": 6,
      "outputs": []
    },
    {
      "cell_type": "code",
      "source": [
        "from google.colab import drive\n",
        "drive.mount('/content/drive')"
      ],
      "metadata": {
        "colab": {
          "base_uri": "https://localhost:8080/",
          "height": 304
        },
        "collapsed": true,
        "id": "-7VaIAA_93ZF",
        "outputId": "d4ae0c33-aec3-400f-da9c-1931a6a1ba0a"
      },
      "execution_count": 7,
      "outputs": [
        {
          "output_type": "error",
          "ename": "MessageError",
          "evalue": "Error: credential propagation was unsuccessful",
          "traceback": [
            "\u001b[0;31m---------------------------------------------------------------------------\u001b[0m",
            "\u001b[0;31mMessageError\u001b[0m                              Traceback (most recent call last)",
            "\u001b[0;32m<ipython-input-7-d5df0069828e>\u001b[0m in \u001b[0;36m<cell line: 0>\u001b[0;34m()\u001b[0m\n\u001b[1;32m      1\u001b[0m \u001b[0;32mfrom\u001b[0m \u001b[0mgoogle\u001b[0m\u001b[0;34m.\u001b[0m\u001b[0mcolab\u001b[0m \u001b[0;32mimport\u001b[0m \u001b[0mdrive\u001b[0m\u001b[0;34m\u001b[0m\u001b[0;34m\u001b[0m\u001b[0m\n\u001b[0;32m----> 2\u001b[0;31m \u001b[0mdrive\u001b[0m\u001b[0;34m.\u001b[0m\u001b[0mmount\u001b[0m\u001b[0;34m(\u001b[0m\u001b[0;34m'/content/drive'\u001b[0m\u001b[0;34m)\u001b[0m\u001b[0;34m\u001b[0m\u001b[0;34m\u001b[0m\u001b[0m\n\u001b[0m",
            "\u001b[0;32m/usr/local/lib/python3.11/dist-packages/google/colab/drive.py\u001b[0m in \u001b[0;36mmount\u001b[0;34m(mountpoint, force_remount, timeout_ms, readonly)\u001b[0m\n\u001b[1;32m     98\u001b[0m \u001b[0;32mdef\u001b[0m \u001b[0mmount\u001b[0m\u001b[0;34m(\u001b[0m\u001b[0mmountpoint\u001b[0m\u001b[0;34m,\u001b[0m \u001b[0mforce_remount\u001b[0m\u001b[0;34m=\u001b[0m\u001b[0;32mFalse\u001b[0m\u001b[0;34m,\u001b[0m \u001b[0mtimeout_ms\u001b[0m\u001b[0;34m=\u001b[0m\u001b[0;36m120000\u001b[0m\u001b[0;34m,\u001b[0m \u001b[0mreadonly\u001b[0m\u001b[0;34m=\u001b[0m\u001b[0;32mFalse\u001b[0m\u001b[0;34m)\u001b[0m\u001b[0;34m:\u001b[0m\u001b[0;34m\u001b[0m\u001b[0;34m\u001b[0m\u001b[0m\n\u001b[1;32m     99\u001b[0m   \u001b[0;34m\"\"\"Mount your Google Drive at the specified mountpoint path.\"\"\"\u001b[0m\u001b[0;34m\u001b[0m\u001b[0;34m\u001b[0m\u001b[0m\n\u001b[0;32m--> 100\u001b[0;31m   return _mount(\n\u001b[0m\u001b[1;32m    101\u001b[0m       \u001b[0mmountpoint\u001b[0m\u001b[0;34m,\u001b[0m\u001b[0;34m\u001b[0m\u001b[0;34m\u001b[0m\u001b[0m\n\u001b[1;32m    102\u001b[0m       \u001b[0mforce_remount\u001b[0m\u001b[0;34m=\u001b[0m\u001b[0mforce_remount\u001b[0m\u001b[0;34m,\u001b[0m\u001b[0;34m\u001b[0m\u001b[0;34m\u001b[0m\u001b[0m\n",
            "\u001b[0;32m/usr/local/lib/python3.11/dist-packages/google/colab/drive.py\u001b[0m in \u001b[0;36m_mount\u001b[0;34m(mountpoint, force_remount, timeout_ms, ephemeral, readonly)\u001b[0m\n\u001b[1;32m    135\u001b[0m   )\n\u001b[1;32m    136\u001b[0m   \u001b[0;32mif\u001b[0m \u001b[0mephemeral\u001b[0m\u001b[0;34m:\u001b[0m\u001b[0;34m\u001b[0m\u001b[0;34m\u001b[0m\u001b[0m\n\u001b[0;32m--> 137\u001b[0;31m     _message.blocking_request(\n\u001b[0m\u001b[1;32m    138\u001b[0m         \u001b[0;34m'request_auth'\u001b[0m\u001b[0;34m,\u001b[0m\u001b[0;34m\u001b[0m\u001b[0;34m\u001b[0m\u001b[0m\n\u001b[1;32m    139\u001b[0m         \u001b[0mrequest\u001b[0m\u001b[0;34m=\u001b[0m\u001b[0;34m{\u001b[0m\u001b[0;34m'authType'\u001b[0m\u001b[0;34m:\u001b[0m \u001b[0;34m'dfs_ephemeral'\u001b[0m\u001b[0;34m}\u001b[0m\u001b[0;34m,\u001b[0m\u001b[0;34m\u001b[0m\u001b[0;34m\u001b[0m\u001b[0m\n",
            "\u001b[0;32m/usr/local/lib/python3.11/dist-packages/google/colab/_message.py\u001b[0m in \u001b[0;36mblocking_request\u001b[0;34m(request_type, request, timeout_sec, parent)\u001b[0m\n\u001b[1;32m    174\u001b[0m       \u001b[0mrequest_type\u001b[0m\u001b[0;34m,\u001b[0m \u001b[0mrequest\u001b[0m\u001b[0;34m,\u001b[0m \u001b[0mparent\u001b[0m\u001b[0;34m=\u001b[0m\u001b[0mparent\u001b[0m\u001b[0;34m,\u001b[0m \u001b[0mexpect_reply\u001b[0m\u001b[0;34m=\u001b[0m\u001b[0;32mTrue\u001b[0m\u001b[0;34m\u001b[0m\u001b[0;34m\u001b[0m\u001b[0m\n\u001b[1;32m    175\u001b[0m   )\n\u001b[0;32m--> 176\u001b[0;31m   \u001b[0;32mreturn\u001b[0m \u001b[0mread_reply_from_input\u001b[0m\u001b[0;34m(\u001b[0m\u001b[0mrequest_id\u001b[0m\u001b[0;34m,\u001b[0m \u001b[0mtimeout_sec\u001b[0m\u001b[0;34m)\u001b[0m\u001b[0;34m\u001b[0m\u001b[0;34m\u001b[0m\u001b[0m\n\u001b[0m",
            "\u001b[0;32m/usr/local/lib/python3.11/dist-packages/google/colab/_message.py\u001b[0m in \u001b[0;36mread_reply_from_input\u001b[0;34m(message_id, timeout_sec)\u001b[0m\n\u001b[1;32m    101\u001b[0m     ):\n\u001b[1;32m    102\u001b[0m       \u001b[0;32mif\u001b[0m \u001b[0;34m'error'\u001b[0m \u001b[0;32min\u001b[0m \u001b[0mreply\u001b[0m\u001b[0;34m:\u001b[0m\u001b[0;34m\u001b[0m\u001b[0;34m\u001b[0m\u001b[0m\n\u001b[0;32m--> 103\u001b[0;31m         \u001b[0;32mraise\u001b[0m \u001b[0mMessageError\u001b[0m\u001b[0;34m(\u001b[0m\u001b[0mreply\u001b[0m\u001b[0;34m[\u001b[0m\u001b[0;34m'error'\u001b[0m\u001b[0;34m]\u001b[0m\u001b[0;34m)\u001b[0m\u001b[0;34m\u001b[0m\u001b[0;34m\u001b[0m\u001b[0m\n\u001b[0m\u001b[1;32m    104\u001b[0m       \u001b[0;32mreturn\u001b[0m \u001b[0mreply\u001b[0m\u001b[0;34m.\u001b[0m\u001b[0mget\u001b[0m\u001b[0;34m(\u001b[0m\u001b[0;34m'data'\u001b[0m\u001b[0;34m,\u001b[0m \u001b[0;32mNone\u001b[0m\u001b[0;34m)\u001b[0m\u001b[0;34m\u001b[0m\u001b[0;34m\u001b[0m\u001b[0m\n\u001b[1;32m    105\u001b[0m \u001b[0;34m\u001b[0m\u001b[0m\n",
            "\u001b[0;31mMessageError\u001b[0m: Error: credential propagation was unsuccessful"
          ]
        }
      ]
    },
    {
      "cell_type": "code",
      "source": [
        "# Convertir los PDFs a imágenes con resolución ajustable\n",
        "pdf_to_images(pdf_files, output_folder='/content/drive/MyDrive/PAIT/PORTADAS_130125_190125', dpi=45)"
      ],
      "metadata": {
        "colab": {
          "base_uri": "https://localhost:8080/"
        },
        "collapsed": true,
        "id": "IeZhABX9JHOb",
        "outputId": "7f72d15a-6bd0-4872-bee4-8c38e1a7748f"
      },
      "execution_count": 8,
      "outputs": [
        {
          "output_type": "stream",
          "name": "stdout",
          "text": [
            "Procesando: /content/drive/MyDrive/PAIT/PDFS_130125_190125/130125_NAC.pdf\n",
            "Imagen guardada: /content/drive/MyDrive/PAIT/PORTADAS_130125_190125/130125_NAC_page_1.png\n",
            "Procesando: /content/drive/MyDrive/PAIT/PDFS_130125_190125/140125_NAC.pdf\n",
            "Imagen guardada: /content/drive/MyDrive/PAIT/PORTADAS_130125_190125/140125_NAC_page_1.png\n",
            "Procesando: /content/drive/MyDrive/PAIT/PDFS_130125_190125/150125_NAC.pdf\n",
            "Imagen guardada: /content/drive/MyDrive/PAIT/PORTADAS_130125_190125/150125_NAC_page_1.png\n",
            "Procesando: /content/drive/MyDrive/PAIT/PDFS_130125_190125/160125_NAC.pdf\n",
            "Imagen guardada: /content/drive/MyDrive/PAIT/PORTADAS_130125_190125/160125_NAC_page_1.png\n",
            "Procesando: /content/drive/MyDrive/PAIT/PDFS_130125_190125/170125_NAC.pdf\n",
            "Imagen guardada: /content/drive/MyDrive/PAIT/PORTADAS_130125_190125/170125_NAC_page_1.png\n",
            "Procesando: /content/drive/MyDrive/PAIT/PDFS_130125_190125/180125_NAC.pdf\n",
            "Imagen guardada: /content/drive/MyDrive/PAIT/PORTADAS_130125_190125/180125_NAC_page_1.png\n",
            "Procesando: /content/drive/MyDrive/PAIT/PDFS_130125_190125/190125_NAC.pdf\n",
            "Imagen guardada: /content/drive/MyDrive/PAIT/PORTADAS_130125_190125/190125_NAC_page_1.png\n",
            "Procesando: /content/drive/MyDrive/PAIT/PDFS_130125_190125/130125_CEN.pdf\n",
            "Imagen guardada: /content/drive/MyDrive/PAIT/PORTADAS_130125_190125/130125_CEN_page_1.png\n",
            "Procesando: /content/drive/MyDrive/PAIT/PDFS_130125_190125/140125_CEN.pdf\n",
            "Imagen guardada: /content/drive/MyDrive/PAIT/PORTADAS_130125_190125/140125_CEN_page_1.png\n",
            "Procesando: /content/drive/MyDrive/PAIT/PDFS_130125_190125/150125_CEN.pdf\n",
            "Imagen guardada: /content/drive/MyDrive/PAIT/PORTADAS_130125_190125/150125_CEN_page_1.png\n",
            "Procesando: /content/drive/MyDrive/PAIT/PDFS_130125_190125/160125_CEN.pdf\n",
            "Imagen guardada: /content/drive/MyDrive/PAIT/PORTADAS_130125_190125/160125_CEN_page_1.png\n",
            "Procesando: /content/drive/MyDrive/PAIT/PDFS_130125_190125/170125_CEN.pdf\n",
            "Imagen guardada: /content/drive/MyDrive/PAIT/PORTADAS_130125_190125/170125_CEN_page_1.png\n",
            "Procesando: /content/drive/MyDrive/PAIT/PDFS_130125_190125/130125_NOR.pdf\n",
            "Imagen guardada: /content/drive/MyDrive/PAIT/PORTADAS_130125_190125/130125_NOR_page_1.png\n",
            "Procesando: /content/drive/MyDrive/PAIT/PDFS_130125_190125/140125_NOR.pdf\n",
            "Imagen guardada: /content/drive/MyDrive/PAIT/PORTADAS_130125_190125/140125_NOR_page_1.png\n",
            "Procesando: /content/drive/MyDrive/PAIT/PDFS_130125_190125/150125_NOR.pdf\n",
            "Imagen guardada: /content/drive/MyDrive/PAIT/PORTADAS_130125_190125/150125_NOR_page_1.png\n",
            "Procesando: /content/drive/MyDrive/PAIT/PDFS_130125_190125/160125_NOR.pdf\n",
            "Imagen guardada: /content/drive/MyDrive/PAIT/PORTADAS_130125_190125/160125_NOR_page_1.png\n",
            "Procesando: /content/drive/MyDrive/PAIT/PDFS_130125_190125/170125_NOR.pdf\n",
            "Imagen guardada: /content/drive/MyDrive/PAIT/PORTADAS_130125_190125/170125_NOR_page_1.png\n",
            "Procesando: /content/drive/MyDrive/PAIT/PDFS_130125_190125/130125_OCC.pdf\n",
            "Imagen guardada: /content/drive/MyDrive/PAIT/PORTADAS_130125_190125/130125_OCC_page_1.png\n",
            "Procesando: /content/drive/MyDrive/PAIT/PDFS_130125_190125/140125_OCC.pdf\n",
            "Imagen guardada: /content/drive/MyDrive/PAIT/PORTADAS_130125_190125/140125_OCC_page_1.png\n",
            "Procesando: /content/drive/MyDrive/PAIT/PDFS_130125_190125/150125_OCC.pdf\n",
            "Imagen guardada: /content/drive/MyDrive/PAIT/PORTADAS_130125_190125/150125_OCC_page_1.png\n",
            "Procesando: /content/drive/MyDrive/PAIT/PDFS_130125_190125/160125_OCC.pdf\n",
            "Imagen guardada: /content/drive/MyDrive/PAIT/PORTADAS_130125_190125/160125_OCC_page_1.png\n",
            "Procesando: /content/drive/MyDrive/PAIT/PDFS_130125_190125/170125_OCC.pdf\n",
            "Imagen guardada: /content/drive/MyDrive/PAIT/PORTADAS_130125_190125/170125_OCC_page_1.png\n",
            "Procesando: /content/drive/MyDrive/PAIT/PDFS_130125_190125/140125_ORI.pdf\n",
            "Imagen guardada: /content/drive/MyDrive/PAIT/PORTADAS_130125_190125/140125_ORI_page_1.png\n",
            "Procesando: /content/drive/MyDrive/PAIT/PDFS_130125_190125/150125_ORI.pdf\n",
            "Imagen guardada: /content/drive/MyDrive/PAIT/PORTADAS_130125_190125/150125_ORI_page_1.png\n",
            "Procesando: /content/drive/MyDrive/PAIT/PDFS_130125_190125/170125_ORI.pdf\n",
            "Imagen guardada: /content/drive/MyDrive/PAIT/PORTADAS_130125_190125/170125_ORI_page_1.png\n",
            "Procesando: /content/drive/MyDrive/PAIT/PDFS_130125_190125/130125_GUA.pdf\n",
            "Imagen guardada: /content/drive/MyDrive/PAIT/PORTADAS_130125_190125/130125_GUA_page_1.png\n",
            "Procesando: /content/drive/MyDrive/PAIT/PDFS_130125_190125/140125_GUA.pdf\n",
            "Imagen guardada: /content/drive/MyDrive/PAIT/PORTADAS_130125_190125/140125_GUA_page_1.png\n",
            "Procesando: /content/drive/MyDrive/PAIT/PDFS_130125_190125/150125_GUA.pdf\n",
            "Imagen guardada: /content/drive/MyDrive/PAIT/PORTADAS_130125_190125/150125_GUA_page_1.png\n",
            "Procesando: /content/drive/MyDrive/PAIT/PDFS_130125_190125/160125_GUA.pdf\n",
            "Imagen guardada: /content/drive/MyDrive/PAIT/PORTADAS_130125_190125/160125_GUA_page_1.png\n",
            "Procesando: /content/drive/MyDrive/PAIT/PDFS_130125_190125/170125_GUA.pdf\n",
            "Imagen guardada: /content/drive/MyDrive/PAIT/PORTADAS_130125_190125/170125_GUA_page_1.png\n",
            "Procesando: /content/drive/MyDrive/PAIT/PDFS_130125_190125/130125_SUR.pdf\n",
            "Imagen guardada: /content/drive/MyDrive/PAIT/PORTADAS_130125_190125/130125_SUR_page_1.png\n",
            "Procesando: /content/drive/MyDrive/PAIT/PDFS_130125_190125/140125_SUR.pdf\n",
            "Imagen guardada: /content/drive/MyDrive/PAIT/PORTADAS_130125_190125/140125_SUR_page_1.png\n",
            "Procesando: /content/drive/MyDrive/PAIT/PDFS_130125_190125/150125_SUR.pdf\n",
            "Imagen guardada: /content/drive/MyDrive/PAIT/PORTADAS_130125_190125/150125_SUR_page_1.png\n",
            "Procesando: /content/drive/MyDrive/PAIT/PDFS_130125_190125/170125_SUR.pdf\n",
            "Imagen guardada: /content/drive/MyDrive/PAIT/PORTADAS_130125_190125/170125_SUR_page_1.png\n"
          ]
        }
      ]
    }
  ]
}