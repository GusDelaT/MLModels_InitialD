{
  "nbformat": 4,
  "nbformat_minor": 0,
  "metadata": {
    "colab": {
      "provenance": []
    },
    "kernelspec": {
      "name": "python3",
      "display_name": "Python 3"
    },
    "language_info": {
      "name": "python"
    }
  },
  "cells": [
    {
      "cell_type": "markdown",
      "source": [
        "# Random Forest"
      ],
      "metadata": {
        "id": "NiJ8zMgAyrGN"
      }
    },
    {
      "cell_type": "markdown",
      "source": [
        "## Importar Librerias"
      ],
      "metadata": {
        "id": "or4pTF4Hywe6"
      }
    },
    {
      "cell_type": "code",
      "execution_count": 72,
      "metadata": {
        "id": "b2hnL8mPxU_8"
      },
      "outputs": [],
      "source": [
        "import pandas as pd\n",
        "from sklearn.model_selection import train_test_split\n",
        "from sklearn.ensemble import RandomForestRegressor\n",
        "from sklearn.metrics import mean_squared_error, r2_score\n",
        "from sklearn.impute import KNNImputer\n",
        "from sklearn.preprocessing import OneHotEncoder"
      ]
    },
    {
      "cell_type": "code",
      "source": [
        "# Cargar datos\n",
        "file_path = '/content/Bases de Datos Estructurada.csv'\n",
        "df = pd.read_csv(file_path, delimiter=';')\n",
        "df.head()"
      ],
      "metadata": {
        "colab": {
          "base_uri": "https://localhost:8080/",
          "height": 226
        },
        "id": "MTz-oMWU3uHe",
        "outputId": "294494a6-1fb1-4ea2-b276-002ae0a5a880"
      },
      "execution_count": 73,
      "outputs": [
        {
          "output_type": "execute_result",
          "data": {
            "text/plain": [
              "       fecha        dia  enviados_totales  cobrados_totales  vendidos_totales  \\\n",
              "0  1/02/2022     Sunday           94993.0           93185.0           81248.0   \n",
              "1  1/03/2022     Monday          110810.0          108409.0          101669.0   \n",
              "2  1/04/2022    Tuesday           97543.0           95151.0           86815.0   \n",
              "3  1/05/2022  Wednesday           96234.0           93842.0           79160.0   \n",
              "4  1/06/2022   Thursday           96254.0           93851.0           84055.0   \n",
              "\n",
              "   devueltos_totales  suscripciones_totales  tiendas_conveniencia  \\\n",
              "0            13256.0                  865.0                 629.0   \n",
              "1            11186.0                  865.0                 664.0   \n",
              "2             6499.0                  865.0                 618.0   \n",
              "3            25826.0                  864.0                 620.0   \n",
              "4            13686.0                  862.0                 661.0   \n",
              "\n",
              "   tiendas_barrio  sectoristas  promocion_bin  cantidad_paginas  \\\n",
              "0          1134.0      92365.0            NaN               NaN   \n",
              "1          1377.0     107904.0            NaN               NaN   \n",
              "2          1376.0      94684.0            NaN               NaN   \n",
              "3          1395.0      93355.0            NaN               NaN   \n",
              "4          1399.0      93332.0            NaN               NaN   \n",
              "\n",
              "   clasificacion_titular  \n",
              "0                    NaN  \n",
              "1                    NaN  \n",
              "2                    NaN  \n",
              "3                    NaN  \n",
              "4                    NaN  "
            ],
            "text/html": [
              "\n",
              "  <div id=\"df-5941f50a-d5fb-473d-b5e0-5d0c371ec72a\" class=\"colab-df-container\">\n",
              "    <div>\n",
              "<style scoped>\n",
              "    .dataframe tbody tr th:only-of-type {\n",
              "        vertical-align: middle;\n",
              "    }\n",
              "\n",
              "    .dataframe tbody tr th {\n",
              "        vertical-align: top;\n",
              "    }\n",
              "\n",
              "    .dataframe thead th {\n",
              "        text-align: right;\n",
              "    }\n",
              "</style>\n",
              "<table border=\"1\" class=\"dataframe\">\n",
              "  <thead>\n",
              "    <tr style=\"text-align: right;\">\n",
              "      <th></th>\n",
              "      <th>fecha</th>\n",
              "      <th>dia</th>\n",
              "      <th>enviados_totales</th>\n",
              "      <th>cobrados_totales</th>\n",
              "      <th>vendidos_totales</th>\n",
              "      <th>devueltos_totales</th>\n",
              "      <th>suscripciones_totales</th>\n",
              "      <th>tiendas_conveniencia</th>\n",
              "      <th>tiendas_barrio</th>\n",
              "      <th>sectoristas</th>\n",
              "      <th>promocion_bin</th>\n",
              "      <th>cantidad_paginas</th>\n",
              "      <th>clasificacion_titular</th>\n",
              "    </tr>\n",
              "  </thead>\n",
              "  <tbody>\n",
              "    <tr>\n",
              "      <th>0</th>\n",
              "      <td>1/02/2022</td>\n",
              "      <td>Sunday</td>\n",
              "      <td>94993.0</td>\n",
              "      <td>93185.0</td>\n",
              "      <td>81248.0</td>\n",
              "      <td>13256.0</td>\n",
              "      <td>865.0</td>\n",
              "      <td>629.0</td>\n",
              "      <td>1134.0</td>\n",
              "      <td>92365.0</td>\n",
              "      <td>NaN</td>\n",
              "      <td>NaN</td>\n",
              "      <td>NaN</td>\n",
              "    </tr>\n",
              "    <tr>\n",
              "      <th>1</th>\n",
              "      <td>1/03/2022</td>\n",
              "      <td>Monday</td>\n",
              "      <td>110810.0</td>\n",
              "      <td>108409.0</td>\n",
              "      <td>101669.0</td>\n",
              "      <td>11186.0</td>\n",
              "      <td>865.0</td>\n",
              "      <td>664.0</td>\n",
              "      <td>1377.0</td>\n",
              "      <td>107904.0</td>\n",
              "      <td>NaN</td>\n",
              "      <td>NaN</td>\n",
              "      <td>NaN</td>\n",
              "    </tr>\n",
              "    <tr>\n",
              "      <th>2</th>\n",
              "      <td>1/04/2022</td>\n",
              "      <td>Tuesday</td>\n",
              "      <td>97543.0</td>\n",
              "      <td>95151.0</td>\n",
              "      <td>86815.0</td>\n",
              "      <td>6499.0</td>\n",
              "      <td>865.0</td>\n",
              "      <td>618.0</td>\n",
              "      <td>1376.0</td>\n",
              "      <td>94684.0</td>\n",
              "      <td>NaN</td>\n",
              "      <td>NaN</td>\n",
              "      <td>NaN</td>\n",
              "    </tr>\n",
              "    <tr>\n",
              "      <th>3</th>\n",
              "      <td>1/05/2022</td>\n",
              "      <td>Wednesday</td>\n",
              "      <td>96234.0</td>\n",
              "      <td>93842.0</td>\n",
              "      <td>79160.0</td>\n",
              "      <td>25826.0</td>\n",
              "      <td>864.0</td>\n",
              "      <td>620.0</td>\n",
              "      <td>1395.0</td>\n",
              "      <td>93355.0</td>\n",
              "      <td>NaN</td>\n",
              "      <td>NaN</td>\n",
              "      <td>NaN</td>\n",
              "    </tr>\n",
              "    <tr>\n",
              "      <th>4</th>\n",
              "      <td>1/06/2022</td>\n",
              "      <td>Thursday</td>\n",
              "      <td>96254.0</td>\n",
              "      <td>93851.0</td>\n",
              "      <td>84055.0</td>\n",
              "      <td>13686.0</td>\n",
              "      <td>862.0</td>\n",
              "      <td>661.0</td>\n",
              "      <td>1399.0</td>\n",
              "      <td>93332.0</td>\n",
              "      <td>NaN</td>\n",
              "      <td>NaN</td>\n",
              "      <td>NaN</td>\n",
              "    </tr>\n",
              "  </tbody>\n",
              "</table>\n",
              "</div>\n",
              "    <div class=\"colab-df-buttons\">\n",
              "\n",
              "  <div class=\"colab-df-container\">\n",
              "    <button class=\"colab-df-convert\" onclick=\"convertToInteractive('df-5941f50a-d5fb-473d-b5e0-5d0c371ec72a')\"\n",
              "            title=\"Convert this dataframe to an interactive table.\"\n",
              "            style=\"display:none;\">\n",
              "\n",
              "  <svg xmlns=\"http://www.w3.org/2000/svg\" height=\"24px\" viewBox=\"0 -960 960 960\">\n",
              "    <path d=\"M120-120v-720h720v720H120Zm60-500h600v-160H180v160Zm220 220h160v-160H400v160Zm0 220h160v-160H400v160ZM180-400h160v-160H180v160Zm440 0h160v-160H620v160ZM180-180h160v-160H180v160Zm440 0h160v-160H620v160Z\"/>\n",
              "  </svg>\n",
              "    </button>\n",
              "\n",
              "  <style>\n",
              "    .colab-df-container {\n",
              "      display:flex;\n",
              "      gap: 12px;\n",
              "    }\n",
              "\n",
              "    .colab-df-convert {\n",
              "      background-color: #E8F0FE;\n",
              "      border: none;\n",
              "      border-radius: 50%;\n",
              "      cursor: pointer;\n",
              "      display: none;\n",
              "      fill: #1967D2;\n",
              "      height: 32px;\n",
              "      padding: 0 0 0 0;\n",
              "      width: 32px;\n",
              "    }\n",
              "\n",
              "    .colab-df-convert:hover {\n",
              "      background-color: #E2EBFA;\n",
              "      box-shadow: 0px 1px 2px rgba(60, 64, 67, 0.3), 0px 1px 3px 1px rgba(60, 64, 67, 0.15);\n",
              "      fill: #174EA6;\n",
              "    }\n",
              "\n",
              "    .colab-df-buttons div {\n",
              "      margin-bottom: 4px;\n",
              "    }\n",
              "\n",
              "    [theme=dark] .colab-df-convert {\n",
              "      background-color: #3B4455;\n",
              "      fill: #D2E3FC;\n",
              "    }\n",
              "\n",
              "    [theme=dark] .colab-df-convert:hover {\n",
              "      background-color: #434B5C;\n",
              "      box-shadow: 0px 1px 3px 1px rgba(0, 0, 0, 0.15);\n",
              "      filter: drop-shadow(0px 1px 2px rgba(0, 0, 0, 0.3));\n",
              "      fill: #FFFFFF;\n",
              "    }\n",
              "  </style>\n",
              "\n",
              "    <script>\n",
              "      const buttonEl =\n",
              "        document.querySelector('#df-5941f50a-d5fb-473d-b5e0-5d0c371ec72a button.colab-df-convert');\n",
              "      buttonEl.style.display =\n",
              "        google.colab.kernel.accessAllowed ? 'block' : 'none';\n",
              "\n",
              "      async function convertToInteractive(key) {\n",
              "        const element = document.querySelector('#df-5941f50a-d5fb-473d-b5e0-5d0c371ec72a');\n",
              "        const dataTable =\n",
              "          await google.colab.kernel.invokeFunction('convertToInteractive',\n",
              "                                                    [key], {});\n",
              "        if (!dataTable) return;\n",
              "\n",
              "        const docLinkHtml = 'Like what you see? Visit the ' +\n",
              "          '<a target=\"_blank\" href=https://colab.research.google.com/notebooks/data_table.ipynb>data table notebook</a>'\n",
              "          + ' to learn more about interactive tables.';\n",
              "        element.innerHTML = '';\n",
              "        dataTable['output_type'] = 'display_data';\n",
              "        await google.colab.output.renderOutput(dataTable, element);\n",
              "        const docLink = document.createElement('div');\n",
              "        docLink.innerHTML = docLinkHtml;\n",
              "        element.appendChild(docLink);\n",
              "      }\n",
              "    </script>\n",
              "  </div>\n",
              "\n",
              "\n",
              "<div id=\"df-d170e4f5-6a56-4415-a070-7d5d2e69a292\">\n",
              "  <button class=\"colab-df-quickchart\" onclick=\"quickchart('df-d170e4f5-6a56-4415-a070-7d5d2e69a292')\"\n",
              "            title=\"Suggest charts\"\n",
              "            style=\"display:none;\">\n",
              "\n",
              "<svg xmlns=\"http://www.w3.org/2000/svg\" height=\"24px\"viewBox=\"0 0 24 24\"\n",
              "     width=\"24px\">\n",
              "    <g>\n",
              "        <path d=\"M19 3H5c-1.1 0-2 .9-2 2v14c0 1.1.9 2 2 2h14c1.1 0 2-.9 2-2V5c0-1.1-.9-2-2-2zM9 17H7v-7h2v7zm4 0h-2V7h2v10zm4 0h-2v-4h2v4z\"/>\n",
              "    </g>\n",
              "</svg>\n",
              "  </button>\n",
              "\n",
              "<style>\n",
              "  .colab-df-quickchart {\n",
              "      --bg-color: #E8F0FE;\n",
              "      --fill-color: #1967D2;\n",
              "      --hover-bg-color: #E2EBFA;\n",
              "      --hover-fill-color: #174EA6;\n",
              "      --disabled-fill-color: #AAA;\n",
              "      --disabled-bg-color: #DDD;\n",
              "  }\n",
              "\n",
              "  [theme=dark] .colab-df-quickchart {\n",
              "      --bg-color: #3B4455;\n",
              "      --fill-color: #D2E3FC;\n",
              "      --hover-bg-color: #434B5C;\n",
              "      --hover-fill-color: #FFFFFF;\n",
              "      --disabled-bg-color: #3B4455;\n",
              "      --disabled-fill-color: #666;\n",
              "  }\n",
              "\n",
              "  .colab-df-quickchart {\n",
              "    background-color: var(--bg-color);\n",
              "    border: none;\n",
              "    border-radius: 50%;\n",
              "    cursor: pointer;\n",
              "    display: none;\n",
              "    fill: var(--fill-color);\n",
              "    height: 32px;\n",
              "    padding: 0;\n",
              "    width: 32px;\n",
              "  }\n",
              "\n",
              "  .colab-df-quickchart:hover {\n",
              "    background-color: var(--hover-bg-color);\n",
              "    box-shadow: 0 1px 2px rgba(60, 64, 67, 0.3), 0 1px 3px 1px rgba(60, 64, 67, 0.15);\n",
              "    fill: var(--button-hover-fill-color);\n",
              "  }\n",
              "\n",
              "  .colab-df-quickchart-complete:disabled,\n",
              "  .colab-df-quickchart-complete:disabled:hover {\n",
              "    background-color: var(--disabled-bg-color);\n",
              "    fill: var(--disabled-fill-color);\n",
              "    box-shadow: none;\n",
              "  }\n",
              "\n",
              "  .colab-df-spinner {\n",
              "    border: 2px solid var(--fill-color);\n",
              "    border-color: transparent;\n",
              "    border-bottom-color: var(--fill-color);\n",
              "    animation:\n",
              "      spin 1s steps(1) infinite;\n",
              "  }\n",
              "\n",
              "  @keyframes spin {\n",
              "    0% {\n",
              "      border-color: transparent;\n",
              "      border-bottom-color: var(--fill-color);\n",
              "      border-left-color: var(--fill-color);\n",
              "    }\n",
              "    20% {\n",
              "      border-color: transparent;\n",
              "      border-left-color: var(--fill-color);\n",
              "      border-top-color: var(--fill-color);\n",
              "    }\n",
              "    30% {\n",
              "      border-color: transparent;\n",
              "      border-left-color: var(--fill-color);\n",
              "      border-top-color: var(--fill-color);\n",
              "      border-right-color: var(--fill-color);\n",
              "    }\n",
              "    40% {\n",
              "      border-color: transparent;\n",
              "      border-right-color: var(--fill-color);\n",
              "      border-top-color: var(--fill-color);\n",
              "    }\n",
              "    60% {\n",
              "      border-color: transparent;\n",
              "      border-right-color: var(--fill-color);\n",
              "    }\n",
              "    80% {\n",
              "      border-color: transparent;\n",
              "      border-right-color: var(--fill-color);\n",
              "      border-bottom-color: var(--fill-color);\n",
              "    }\n",
              "    90% {\n",
              "      border-color: transparent;\n",
              "      border-bottom-color: var(--fill-color);\n",
              "    }\n",
              "  }\n",
              "</style>\n",
              "\n",
              "  <script>\n",
              "    async function quickchart(key) {\n",
              "      const quickchartButtonEl =\n",
              "        document.querySelector('#' + key + ' button');\n",
              "      quickchartButtonEl.disabled = true;  // To prevent multiple clicks.\n",
              "      quickchartButtonEl.classList.add('colab-df-spinner');\n",
              "      try {\n",
              "        const charts = await google.colab.kernel.invokeFunction(\n",
              "            'suggestCharts', [key], {});\n",
              "      } catch (error) {\n",
              "        console.error('Error during call to suggestCharts:', error);\n",
              "      }\n",
              "      quickchartButtonEl.classList.remove('colab-df-spinner');\n",
              "      quickchartButtonEl.classList.add('colab-df-quickchart-complete');\n",
              "    }\n",
              "    (() => {\n",
              "      let quickchartButtonEl =\n",
              "        document.querySelector('#df-d170e4f5-6a56-4415-a070-7d5d2e69a292 button');\n",
              "      quickchartButtonEl.style.display =\n",
              "        google.colab.kernel.accessAllowed ? 'block' : 'none';\n",
              "    })();\n",
              "  </script>\n",
              "</div>\n",
              "\n",
              "    </div>\n",
              "  </div>\n"
            ],
            "application/vnd.google.colaboratory.intrinsic+json": {
              "type": "dataframe",
              "variable_name": "df",
              "summary": "{\n  \"name\": \"df\",\n  \"rows\": 1090,\n  \"fields\": [\n    {\n      \"column\": \"fecha\",\n      \"properties\": {\n        \"dtype\": \"object\",\n        \"num_unique_values\": 1089,\n        \"samples\": [\n          \"12/23/2022\",\n          \"2/27/2022\",\n          \"4/26/2023\"\n        ],\n        \"semantic_type\": \"\",\n        \"description\": \"\"\n      }\n    },\n    {\n      \"column\": \"dia\",\n      \"properties\": {\n        \"dtype\": \"category\",\n        \"num_unique_values\": 7,\n        \"samples\": [\n          \"Sunday\",\n          \"Monday\",\n          \"Friday\"\n        ],\n        \"semantic_type\": \"\",\n        \"description\": \"\"\n      }\n    },\n    {\n      \"column\": \"enviados_totales\",\n      \"properties\": {\n        \"dtype\": \"number\",\n        \"std\": 12182.777379757386,\n        \"min\": 49527.0,\n        \"max\": 161803.0,\n        \"num_unique_values\": 1068,\n        \"samples\": [\n          72849.0,\n          100187.0,\n          66044.0\n        ],\n        \"semantic_type\": \"\",\n        \"description\": \"\"\n      }\n    },\n    {\n      \"column\": \"cobrados_totales\",\n      \"properties\": {\n        \"dtype\": \"number\",\n        \"std\": 13149.616345071257,\n        \"min\": 2611.0,\n        \"max\": 159446.0,\n        \"num_unique_values\": 1060,\n        \"samples\": [\n          75333.0,\n          89547.0,\n          97831.0\n        ],\n        \"semantic_type\": \"\",\n        \"description\": \"\"\n      }\n    },\n    {\n      \"column\": \"vendidos_totales\",\n      \"properties\": {\n        \"dtype\": \"number\",\n        \"std\": 13592.23899816894,\n        \"min\": 1308.0,\n        \"max\": 126999.0,\n        \"num_unique_values\": 1073,\n        \"samples\": [\n          46897.0,\n          52254.0,\n          45675.0\n        ],\n        \"semantic_type\": \"\",\n        \"description\": \"\"\n      }\n    },\n    {\n      \"column\": \"devueltos_totales\",\n      \"properties\": {\n        \"dtype\": \"number\",\n        \"std\": 4022.987349602028,\n        \"min\": 816.0,\n        \"max\": 31495.0,\n        \"num_unique_values\": 1023,\n        \"samples\": [\n          7469.0,\n          14843.0,\n          5939.0\n        ],\n        \"semantic_type\": \"\",\n        \"description\": \"\"\n      }\n    },\n    {\n      \"column\": \"suscripciones_totales\",\n      \"properties\": {\n        \"dtype\": \"number\",\n        \"std\": 137.39097534222586,\n        \"min\": 466.0,\n        \"max\": 3019.0,\n        \"num_unique_values\": 141,\n        \"samples\": [\n          682.0,\n          610.0,\n          837.0\n        ],\n        \"semantic_type\": \"\",\n        \"description\": \"\"\n      }\n    },\n    {\n      \"column\": \"tiendas_conveniencia\",\n      \"properties\": {\n        \"dtype\": \"number\",\n        \"std\": 132.22381565916388,\n        \"min\": 616.0,\n        \"max\": 1974.0,\n        \"num_unique_values\": 215,\n        \"samples\": [\n          926.0,\n          965.0,\n          967.0\n        ],\n        \"semantic_type\": \"\",\n        \"description\": \"\"\n      }\n    },\n    {\n      \"column\": \"tiendas_barrio\",\n      \"properties\": {\n        \"dtype\": \"number\",\n        \"std\": 305.2731818504537,\n        \"min\": 659.0,\n        \"max\": 3172.0,\n        \"num_unique_values\": 540,\n        \"samples\": [\n          1334.0,\n          1590.0,\n          822.0\n        ],\n        \"semantic_type\": \"\",\n        \"description\": \"\"\n      }\n    },\n    {\n      \"column\": \"sectoristas\",\n      \"properties\": {\n        \"dtype\": \"number\",\n        \"std\": 11925.770594811243,\n        \"min\": 46668.0,\n        \"max\": 156272.0,\n        \"num_unique_values\": 1065,\n        \"samples\": [\n          93959.0,\n          67042.0,\n          79142.0\n        ],\n        \"semantic_type\": \"\",\n        \"description\": \"\"\n      }\n    },\n    {\n      \"column\": \"promocion_bin\",\n      \"properties\": {\n        \"dtype\": \"number\",\n        \"std\": null,\n        \"min\": null,\n        \"max\": null,\n        \"num_unique_values\": 0,\n        \"samples\": [],\n        \"semantic_type\": \"\",\n        \"description\": \"\"\n      }\n    },\n    {\n      \"column\": \"cantidad_paginas\",\n      \"properties\": {\n        \"dtype\": \"number\",\n        \"std\": null,\n        \"min\": null,\n        \"max\": null,\n        \"num_unique_values\": 0,\n        \"samples\": [],\n        \"semantic_type\": \"\",\n        \"description\": \"\"\n      }\n    },\n    {\n      \"column\": \"clasificacion_titular\",\n      \"properties\": {\n        \"dtype\": \"number\",\n        \"std\": null,\n        \"min\": null,\n        \"max\": null,\n        \"num_unique_values\": 0,\n        \"samples\": [],\n        \"semantic_type\": \"\",\n        \"description\": \"\"\n      }\n    }\n  ]\n}"
            }
          },
          "metadata": {},
          "execution_count": 73
        }
      ]
    },
    {
      "cell_type": "code",
      "source": [
        "df.info()"
      ],
      "metadata": {
        "colab": {
          "base_uri": "https://localhost:8080/"
        },
        "id": "_4F9L-kr7moK",
        "outputId": "9684531d-682f-46c6-9cdd-663015a5efe5"
      },
      "execution_count": 74,
      "outputs": [
        {
          "output_type": "stream",
          "name": "stdout",
          "text": [
            "<class 'pandas.core.frame.DataFrame'>\n",
            "RangeIndex: 1090 entries, 0 to 1089\n",
            "Data columns (total 13 columns):\n",
            " #   Column                 Non-Null Count  Dtype  \n",
            "---  ------                 --------------  -----  \n",
            " 0   fecha                  1090 non-null   object \n",
            " 1   dia                    1090 non-null   object \n",
            " 2   enviados_totales       1084 non-null   float64\n",
            " 3   cobrados_totales       1084 non-null   float64\n",
            " 4   vendidos_totales       1084 non-null   float64\n",
            " 5   devueltos_totales      1084 non-null   float64\n",
            " 6   suscripciones_totales  1084 non-null   float64\n",
            " 7   tiendas_conveniencia   1084 non-null   float64\n",
            " 8   tiendas_barrio         1084 non-null   float64\n",
            " 9   sectoristas            1084 non-null   float64\n",
            " 10  promocion_bin          0 non-null      float64\n",
            " 11  cantidad_paginas       0 non-null      float64\n",
            " 12  clasificacion_titular  0 non-null      float64\n",
            "dtypes: float64(11), object(2)\n",
            "memory usage: 110.8+ KB\n"
          ]
        }
      ]
    },
    {
      "cell_type": "code",
      "source": [
        "# Convertir la columna 'fecha' a tipo datetime\n",
        "df['fecha'] = pd.to_datetime(df['fecha'], errors='coerce', dayfirst=False)  # Ajusta `dayfirst=True` si el formato es DD/MM/YYYY\n",
        "# Convertir la columna dia a categoria\n",
        "df['dia'] = df['dia'].astype('category')"
      ],
      "metadata": {
        "id": "zxdgjL1j7y0Z"
      },
      "execution_count": 75,
      "outputs": []
    },
    {
      "cell_type": "code",
      "source": [
        "df = df[['fecha','dia','vendidos_totales', 'devueltos_totales', 'suscripciones_totales', 'tiendas_conveniencia', 'tiendas_barrio', 'sectoristas']]"
      ],
      "metadata": {
        "id": "CvZZxYS2Blv9"
      },
      "execution_count": 76,
      "outputs": []
    },
    {
      "cell_type": "code",
      "source": [
        "numeric_cols = df.select_dtypes(include=['float64'])\n",
        "imputer = KNNImputer(n_neighbors=5)\n",
        "imputed_data = imputer.fit_transform(numeric_cols)\n",
        "df[numeric_cols.columns] = imputed_data\n",
        "df = df.dropna(subset=['fecha'])\n",
        "print(f\"Number of rows in DataFrame: {len(df)}\")\n",
        "print(f\"Number of non-missing 'fecha' entries: {df['fecha'].notna().sum()}\")\n",
        "print(df.info())"
      ],
      "metadata": {
        "colab": {
          "base_uri": "https://localhost:8080/"
        },
        "id": "y6O-qBsM4P7G",
        "outputId": "6d418ca0-0fb4-4718-faea-fb7c0d9fb4b8"
      },
      "execution_count": 77,
      "outputs": [
        {
          "output_type": "stream",
          "name": "stdout",
          "text": [
            "Number of rows in DataFrame: 1090\n",
            "Number of non-missing 'fecha' entries: 1090\n",
            "<class 'pandas.core.frame.DataFrame'>\n",
            "RangeIndex: 1090 entries, 0 to 1089\n",
            "Data columns (total 8 columns):\n",
            " #   Column                 Non-Null Count  Dtype         \n",
            "---  ------                 --------------  -----         \n",
            " 0   fecha                  1090 non-null   datetime64[ns]\n",
            " 1   dia                    1090 non-null   category      \n",
            " 2   vendidos_totales       1090 non-null   float64       \n",
            " 3   devueltos_totales      1090 non-null   float64       \n",
            " 4   suscripciones_totales  1090 non-null   float64       \n",
            " 5   tiendas_conveniencia   1090 non-null   float64       \n",
            " 6   tiendas_barrio         1090 non-null   float64       \n",
            " 7   sectoristas            1090 non-null   float64       \n",
            "dtypes: category(1), datetime64[ns](1), float64(6)\n",
            "memory usage: 61.2 KB\n",
            "None\n"
          ]
        },
        {
          "output_type": "stream",
          "name": "stderr",
          "text": [
            "<ipython-input-77-05e05042b83c>:4: SettingWithCopyWarning: \n",
            "A value is trying to be set on a copy of a slice from a DataFrame.\n",
            "Try using .loc[row_indexer,col_indexer] = value instead\n",
            "\n",
            "See the caveats in the documentation: https://pandas.pydata.org/pandas-docs/stable/user_guide/indexing.html#returning-a-view-versus-a-copy\n",
            "  df[numeric_cols.columns] = imputed_data\n"
          ]
        }
      ]
    },
    {
      "cell_type": "code",
      "source": [
        "if 'fecha' in df.columns:\n",
        "    df['año'] = df['fecha'].dt.year\n",
        "    df['mes'] = df['fecha'].dt.month\n",
        "    df['día'] = df['fecha'].dt.day\n",
        "    df = df.drop(columns=['fecha'])"
      ],
      "metadata": {
        "id": "jexnF5J-OSNn"
      },
      "execution_count": 78,
      "outputs": []
    },
    {
      "cell_type": "code",
      "source": [
        "# OneHotEncoder para columnas categóricas (como 'dia')\n",
        "if 'dia' in df.columns:\n",
        "    encoder = OneHotEncoder(sparse_output=False, drop='first')\n",
        "    dia_encoded = encoder.fit_transform(df[['dia']])\n",
        "    dia_encoded_df = pd.DataFrame(dia_encoded, columns=encoder.get_feature_names_out(['dia']), index=df.index)\n",
        "    df = pd.concat([df.drop(columns=['dia']), dia_encoded_df], axis=1)"
      ],
      "metadata": {
        "id": "VBnxqdtDKqAZ"
      },
      "execution_count": 79,
      "outputs": []
    },
    {
      "cell_type": "code",
      "source": [
        "# Seleccionar variables independientes (X) y dependiente (y)\n",
        "X = df.drop(columns=['vendidos_totales'])  # Variable objetivo\n",
        "y = df['vendidos_totales']"
      ],
      "metadata": {
        "id": "JxCfH926712t"
      },
      "execution_count": 80,
      "outputs": []
    },
    {
      "cell_type": "code",
      "source": [
        "# Dividir datos en entrenamiento y prueba\n",
        "X_train, X_test, y_train, y_test = train_test_split(X, y, test_size=0.2, random_state=42)"
      ],
      "metadata": {
        "id": "ROe404hHJwZH"
      },
      "execution_count": 81,
      "outputs": []
    },
    {
      "cell_type": "code",
      "source": [
        "# Crear el modelo Random Forest\n",
        "rf_model = RandomForestRegressor(n_estimators=1000, random_state=42)\n",
        "\n",
        "# Entrenar el modelo\n",
        "rf_model.fit(X_train, y_train)\n",
        "\n",
        "# Hacer predicciones\n",
        "y_pred = rf_model.predict(X_test)"
      ],
      "metadata": {
        "id": "hMo1rnxUJ1iC"
      },
      "execution_count": 82,
      "outputs": []
    },
    {
      "cell_type": "code",
      "source": [
        "# Evaluar el modelo\n",
        "mse = mean_squared_error(y_test, y_pred)\n",
        "r2 = r2_score(y_test, y_pred)\n",
        "\n",
        "print(\"Mean Squared Error (MSE):\", mse)\n",
        "print(\"R2 Score:\", r2)\n",
        "\n",
        "# Importancia de las variables\n",
        "feature_importances = pd.DataFrame({\n",
        "    'Feature': X.columns,\n",
        "    'Importance': rf_model.feature_importances_\n",
        "}).sort_values(by='Importance', ascending=False)\n",
        "\n",
        "print(\"\\nImportancia de las variables:\")\n",
        "print(feature_importances)"
      ],
      "metadata": {
        "colab": {
          "base_uri": "https://localhost:8080/"
        },
        "id": "oCjQbm79KWIh",
        "outputId": "588c29de-04c1-4994-8e4d-45441154bc15"
      },
      "execution_count": 83,
      "outputs": [
        {
          "output_type": "stream",
          "name": "stdout",
          "text": [
            "Mean Squared Error (MSE): 18725913.247541487\n",
            "R2 Score: 0.8969454229391658\n",
            "\n",
            "Importancia de las variables:\n",
            "                  Feature  Importance\n",
            "4             sectoristas    0.637267\n",
            "1   suscripciones_totales    0.185729\n",
            "0       devueltos_totales    0.133522\n",
            "6                     mes    0.011454\n",
            "2    tiendas_conveniencia    0.008784\n",
            "3          tiendas_barrio    0.007254\n",
            "8              dia_Monday    0.006830\n",
            "7                     día    0.005528\n",
            "5                     año    0.001399\n",
            "11           dia_Thursday    0.001047\n",
            "13          dia_Wednesday    0.000625\n",
            "10             dia_Sunday    0.000235\n",
            "12            dia_Tuesday    0.000180\n",
            "9            dia_Saturday    0.000144\n"
          ]
        }
      ]
    }
  ]
}